{
 "cells": [
  {
   "cell_type": "code",
   "execution_count": 1,
   "id": "6fde9f37",
   "metadata": {},
   "outputs": [
    {
     "name": "stderr",
     "output_type": "stream",
     "text": [
      "2023-06-17 16:36:39.822687: I tensorflow/core/platform/cpu_feature_guard.cc:182] This TensorFlow binary is optimized to use available CPU instructions in performance-critical operations.\n",
      "To enable the following instructions: AVX2 FMA, in other operations, rebuild TensorFlow with the appropriate compiler flags.\n"
     ]
    }
   ],
   "source": [
    "import tensorflow as tf\n",
    "import gymnasium as gym\n",
    "import matplotlib.pyplot as plt\n",
    "from gymnasium.wrappers.monitoring.video_recorder import VideoRecorder\n",
    "from IPython.display import clear_output\n",
    "import time\n",
    "import numpy as np\n",
    "import sys\n",
    "from tensorflow.keras.models import Sequential\n",
    "from tensorflow.keras.layers import Dense, Flatten\n",
    "from tensorflow.keras.optimizers import Adam"
   ]
  },
  {
   "cell_type": "markdown",
   "id": "69b8ec02",
   "metadata": {},
   "source": [
    "## -- Creating the environment (=cartpole) and visualising the state:"
   ]
  },
  {
   "cell_type": "code",
   "execution_count": 2,
   "id": "a74b9034",
   "metadata": {},
   "outputs": [
    {
     "name": "stdout",
     "output_type": "stream",
     "text": [
      "-- State [position,velocity,angle,angular velocity] =  [ 0.04768333 -0.01357592 -0.02826103 -0.02619468]\n",
      "-- Action space [move left, mmove right]=  Discrete(2)\n"
     ]
    },
    {
     "data": {
      "image/png": "[encoded data removed]",
      "text/plain": [
       "<Figure size 640x480 with 1 Axes>"
      ]
     },
     "metadata": {},
     "output_type": "display_data"
    }
   ],
   "source": [
    "env = gym.make('CartPole-v1', render_mode=\"rgb_array\")  #-- render_mode makes env.render() return a colormap.\n",
    "env.reset()   #-- initialises the cartpole close to the origin with a slight random initial inclination and velocity. \n",
    "img = plt.imshow( env.render() )   #-- plot the state using 3D colormap plotting\n",
    "print( '-- State [position,velocity,angle,angular velocity] = ',env.state )\n",
    "print( '-- Action space [move left, mmove right]= ',env.action_space )"
   ]
  },
  {
   "cell_type": "code",
   "execution_count": 3,
   "id": "b513623e",
   "metadata": {},
   "outputs": [
    {
     "name": "stderr",
     "output_type": "stream",
     "text": [
      "/Users/nicolas/miniconda3/lib/python3.10/site-packages/gymnasium/envs/classic_control/cartpole.py:180: UserWarning: \u001b[33mWARN: You are calling 'step()' even though this environment has already returned terminated = True. You should always call 'reset()' once you receive 'terminated = True' -- any further steps are undefined behavior.\u001b[0m\n",
      "  logger.warn(\n"
     ]
    },
    {
     "name": "stdout",
     "output_type": "stream",
     "text": [
      "Moviepy - Building video videos/randomly_chosen_actions.mp4.\n",
      "Moviepy - Writing video videos/randomly_chosen_actions.mp4\n",
      "\n"
     ]
    },
    {
     "name": "stderr",
     "output_type": "stream",
     "text": [
      "                                                                                                                      "
     ]
    },
    {
     "name": "stdout",
     "output_type": "stream",
     "text": [
      "Moviepy - Done !\n",
      "Moviepy - video ready videos/randomly_chosen_actions.mp4\n"
     ]
    },
    {
     "name": "stderr",
     "output_type": "stream",
     "text": [
      "\r"
     ]
    }
   ],
   "source": [
    "#-- let's make a video of one episode, where we randomly choose an action at each step.\n",
    "\n",
    "filename = 'videos/randomly_chosen_actions'+'.mp4'\n",
    "env.reset()\n",
    "video = VideoRecorder(env,filename)\n",
    "for i in range(100):\n",
    "    env.render()\n",
    "    video.capture_frame()\n",
    "    action = env.action_space.sample()   #-- choose random action from the action space\n",
    "    \n",
    "    obs, reward, terminated, truncated, info = env.step( action )\n",
    "    # env.step takes an action as argument and evolves env accrodingly. It outputs:\n",
    "    #-- obs: the new state of the system\n",
    "    #-- reward: the reward given by the new state\n",
    "    #-- terminate: if the angle > ±12° or position > ±2.4\n",
    "    #-- truncate: if episode length > 500\n",
    "    \n",
    "video.close()\n",
    "env.close()"
   ]
  },
  {
   "cell_type": "markdown",
   "id": "2088c236",
   "metadata": {},
   "source": [
    "## -- create the network and the agent classes"
   ]
  },
  {
   "cell_type": "code",
   "execution_count": 4,
   "id": "c918fe2c",
   "metadata": {},
   "outputs": [],
   "source": [
    "# This class that creates the neural net for the agent. \n",
    "# We choose a fully-connected net as is typical in reinfocement learing.\n",
    "class Policy_Network(tf.keras.Model):\n",
    "    \n",
    "    def __init__(self, n_actions, fc):\n",
    "        super(Policy_Network, self).__init__()\n",
    "\n",
    "        self.fc1 = Dense(fc, activation='relu')\n",
    "        self.fc2 = Dense(fc, activation='relu')\n",
    "        self.pi = Dense(n_actions, activation='softmax')\n",
    "\n",
    "    def call(self, state):\n",
    "        value = self.fc1(state)\n",
    "        value = self.fc2(value)\n",
    "        pi = self.pi(value)\n",
    "\n",
    "        return pi\n",
    "\n",
    "# -- The agent class invokes Policy_Network to create a neural net policy_network \n",
    "# that will generate a policr dependeing on the current state. \n",
    "# -- Also, It stores episodes generated by applying the policy_network and then can\n",
    "# learn from the stored episodes using self.learn().\n",
    "class Agent:\n",
    "    \n",
    "    def __init__(self, alpha=1e-3, n_actions=2, gamma=0.95, fc=20):\n",
    "        self.gamma = gamma   #-- discount factor\n",
    "        self.n_actions = n_actions    #-- size of the env.action_space\n",
    "        self.state_memory = [] \n",
    "        self.action_memory = []\n",
    "        self.reward_memory = []\n",
    "        self.policy_network = Policy_Network( n_actions, fc )   #-- creating the network, or 'brain' of the agent\n",
    "        self.policy_network.compile( optimizer=Adam(learning_rate=alpha) )  #-- compile the model\n",
    "\n",
    "    def choose_action(self, state):\n",
    "        state_tf = tf.convert_to_tensor([state])    #-- convert state to tf array\n",
    "        policy = self.policy_network(state_tf)    #-- generate polisy using the network\n",
    "        cumulative_distribution = np.cumsum( policy )   #-- generate random action accroding to policy\n",
    "        p=np.random.uniform()\n",
    "        for pick in range(self.n_actions):\n",
    "            if p<cumulative_distribution[pick]:\n",
    "                break\n",
    "        return pick #-- pick is the chosen action\n",
    "    \n",
    "    def store_episode(self, observation, action, reward):\n",
    "        #-- to be able to learn, the agent needs to record the action/state combinations, \n",
    "        #-- and what reward those have led to. [ observation = state ]\n",
    "        self.state_memory.append(observation) \n",
    "        self.action_memory.append(action)\n",
    "        self.reward_memory.append(reward)\n",
    "        \n",
    "    def learn(self):\n",
    "\n",
    "        batch_size = len( self.action_memory ) #-- number of episodes to learn from in one go\n",
    "\n",
    "        G = [ [] for i in range(batch_size) ]  #-- return values, one for every step t of every batch i\n",
    "        for i in range( batch_size ):\n",
    "            N_steps = len( self.reward_memory[i] )  #-- number of steps in specific episode\n",
    "            for t in range( N_steps ):\n",
    "                G_sum = 0\n",
    "                for k in range( N_steps-t ):\n",
    "                    #-- at each step, add all rewards from future steps taken, but note:\n",
    "                    #-- the further the step, the more discounted is the reward\n",
    "                    G_sum += self.reward_memory[i][t+k] * self.gamma**k  \n",
    "                G[i].append( tf.convert_to_tensor(G_sum) )\n",
    "        \n",
    "        #-- now comes GardientTape, which is used by tensorflow to keep track of all mathematical operations\n",
    "        #-- used in calculating the loss function. It then uses these operations to perform backpropagation and \n",
    "        #-- calculate the gradients of every weight and bias (=self.policy_network.trainable_variables).\n",
    "        with tf.GradientTape() as tape:\n",
    "            loss=0.\n",
    "            for i in range(batch_size):\n",
    "                \n",
    "                N_steps = len( self.reward_memory[i] )   #-- number of steps in specific episode\n",
    "                states_tf = tf.convert_to_tensor(self.state_memory[i])  #-- converte state to tf array\n",
    "                actions_tf = tf.convert_to_tensor(self.action_memory[i])  #-- converte actions to tf array\n",
    "                probs = self.policy_network(states_tf)  #-- generate policy\n",
    "                log_probs = tf.math.log( probs + 1e-15 )   #-- calculate log of policy\n",
    "                slice_indices = tf.transpose( tf.stack( (tf.range(0,N_steps), actions_tf) ) )\n",
    "                log_probs_a = tf.gather_nd( log_probs, slice_indices ) \n",
    "                \n",
    "                loss += tf.reduce_sum( G[i][:] * log_probs_a )                \n",
    "                    \n",
    "            loss /= batch_size  #-- average over a batch, this will lead to a more accurate gradient\n",
    "        \n",
    "        #-- calculate and tehn apply the gardients\n",
    "        gradient = tape.gradient( loss, self.policy_network.trainable_variables ) \n",
    "        self.policy_network.optimizer.apply_gradients( zip(gradient, self.policy_network.trainable_variables) )\n",
    "\n",
    "        self.state_memory = []\n",
    "        self.action_memory = []\n",
    "        self.reward_memory = []"
   ]
  },
  {
   "cell_type": "code",
   "execution_count": 5,
   "id": "939d6863",
   "metadata": {},
   "outputs": [],
   "source": [
    "def train_agent( agent, num_epochs, batch_size, eps_min, eps_max, name, verbose=True ):\n",
    "    #-- num_epochs: how many batches agent should be trained from \n",
    "    #-- batch_size: how many episodes in one batch. [hre I took epoch=batch] \n",
    "    #-- eps_max: the maximum rate of exploration = initally, how often we choose a random action\n",
    "    #-- eps_min: the minimum rate of exploration = at the end, how often we choose a random action\n",
    "    #-- name: a filename for when we want to save the weights of the network\n",
    "    \n",
    "    env = gym.make('CartPole-v1')\n",
    "    env.reset()\n",
    "    \n",
    "    print_array=np.linspace( 0, 0.95, 10 )  #-- just an array to print progress\n",
    "    pointer = 0  #-- array pointer to keep track of next print event\n",
    "\n",
    "    t2=-1\n",
    "    t1=time.time()\n",
    "\n",
    "    sum_of_rewards_history = []\n",
    "    best_return = -1\n",
    "    for jj in range(num_epochs):\n",
    "\n",
    "        batch_sum_of_rewards = []   #-- keep sum of rewards to keep track of training\n",
    "        for ii in range( batch_size ):\n",
    "\n",
    "            #-- temporary memory arrays\n",
    "            sequence_obsvs = []\n",
    "            sequence_acts = []\n",
    "            sequence_rwds = []\n",
    "\n",
    "            env.reset()\n",
    "            terminated = False\n",
    "            truncated = False\n",
    "            while (not terminated) and (not truncated):   #-- stop the episode when inclination if too much\n",
    "                \n",
    "                #-- EXPLORATION: sometimes need to forcefully try other choices to avoid overfitting\n",
    "                if np.random.random() < max( eps_max * ( 1 - jj / num_epochs ), eps_min ):\n",
    "                    #-- explore\n",
    "                    action = env.action_space.sample()\n",
    "                else:\n",
    "                    #-- use the neural net to generate a policy and choose randomly from it\n",
    "                    action = agent.choose_action( env.state )\n",
    "\n",
    "                #-- evolve_system\n",
    "                obs, reward, terminated, truncated, info = env.step( action )\n",
    "\n",
    "                #-- store the event in temporary memory arrays\n",
    "                sequence_obsvs.append( obs )\n",
    "                sequence_acts.append( action )\n",
    "                sequence_rwds.append( reward )\n",
    "\n",
    "            #-- store the temporary memory arrays in the agent's memory\n",
    "            agent.store_episode( sequence_obsvs, sequence_acts, sequence_rwds )\n",
    "            batch_sum_of_rewards.append( np.sum( sequence_rwds ) ) \n",
    "\n",
    "        #-- monitor the mean sum of rewards. If it outperforms previous steps,\n",
    "        #-- save the weights so as to remember the best agent\n",
    "        sum_of_rewards_history.append( np.mean( batch_sum_of_rewards ) )\n",
    "        if (sum_of_rewards_history[-1] > best_return):  \n",
    "            agent.policy_network.save_weights('saved_agents/weights_'+name)\n",
    "            best_return = sum_of_rewards_history[-1]\n",
    "\n",
    "        #-- printing progress\n",
    "        if verbose and ( pointer < len(print_array)) and (jj > print_array[pointer]*num_epochs ) :\n",
    "            pointer+=1\n",
    "            t2 = time.time()\n",
    "            print('-- epoch complete: ',jj, end='   ')\n",
    "            print('mean sum of rewards=',np.round( np.mean( sum_of_rewards_history[-1] ), 4), ', time=', np.round( t2-t1,2) )\n",
    "            t1=t2\n",
    "\n",
    "        #-- use events stored in memory to learn from its mistakes, or good actions.\n",
    "        agent.learn() \n",
    "    \n",
    "    env.close()\n",
    "    print('--END. Best return=', best_return)\n",
    "    return sum_of_rewards_history "
   ]
  },
  {
   "cell_type": "code",
   "execution_count": 6,
   "id": "4bbd8ef9",
   "metadata": {},
   "outputs": [
    {
     "name": "stdout",
     "output_type": "stream",
     "text": [
      "-- name:  CartPole_lr=5e-05_gam=0.995_400epochs_eps=0.5_0.05_fc300_bs64\n",
      "-- epoch complete:  1   mean sum of rewards= 21.3438 , time= 2.9\n",
      "-- epoch complete:  43   mean sum of rewards= 24.7188 , time= 73.13\n",
      "-- epoch complete:  85   mean sum of rewards= 33.0625 , time= 83.22\n",
      "-- epoch complete:  127   mean sum of rewards= 41.5938 , time= 111.59\n",
      "-- epoch complete:  169   mean sum of rewards= 52.25 , time= 152.07\n",
      "-- epoch complete:  212   mean sum of rewards= 55.2188 , time= 203.24\n",
      "-- epoch complete:  254   mean sum of rewards= 60.25 , time= 208.65\n",
      "-- epoch complete:  296   mean sum of rewards= 65.3594 , time= 220.17\n",
      "-- epoch complete:  338   mean sum of rewards= 59.7812 , time= 210.01\n",
      "-- epoch complete:  381   mean sum of rewards= 61.6719 , time= 210.87\n",
      "--END. Best return= 71.625\n"
     ]
    },
    {
     "data": {
      "text/plain": [
       "[<matplotlib.lines.Line2D at 0x7fc6d112f190>]"
      ]
     },
     "execution_count": 6,
     "metadata": {},
     "output_type": "execute_result"
    },
    {
     "data": {
      "image/png": "[encoded data removed]",
      "text/plain": [
       "<Figure size 640x480 with 1 Axes>"
      ]
     },
     "metadata": {},
     "output_type": "display_data"
    }
   ],
   "source": [
    "num_epochs = 400   #-- epochs to be trained on\n",
    "batch_size = 64\n",
    "number_of_prints = 10\n",
    "lr=0.00005   #-- learning rate\n",
    "gam=0.995   #-- discount rate\n",
    "eps_max=0.5  #-- initial exploration rate\n",
    "eps_min=0.05  #-- final exploration rate\n",
    "fc=300   #-- size of the first layer of the neural net\n",
    "\n",
    "#-- define a name to keep track of what parameters where used\n",
    "name='CartPole_lr='+str(lr)+'_gam='+str(gam)+'_'+str(num_epochs)+'epochs_eps='+str(eps_max)+'_'+str(eps_min)\\\n",
    "                        +'_fc'+str(fc)+'_bs'+str(batch_size)\n",
    "print('-- name: ', name)\n",
    "\n",
    "#-- create an isntance of Agent\n",
    "agent = Agent( alpha=lr, n_actions=2,  gamma=gam, fc=fc )\n",
    "\n",
    "#-- train the agent\n",
    "sum_of_rewards_history_ = train_agent( agent, num_epochs, batch_size, eps_min, eps_max, name, verbose=True )\n",
    "plt.plot(sum_of_rewards_history_)"
   ]
  },
  {
   "cell_type": "code",
   "execution_count": null,
   "id": "f9b06127",
   "metadata": {},
   "outputs": [
    {
     "name": "stdout",
     "output_type": "stream",
     "text": [
      "-- epoch complete:  1   mean sum of rewards= 52.5 , time= 14.68\n",
      "-- epoch complete:  11   mean sum of rewards= 51.5078 , time= 82.76\n"
     ]
    }
   ],
   "source": [
    "sum_of_rewards_history2_ = train_agent( agent, 100, batch_size, 0.05, 0.25, name, verbose=True )"
   ]
  },
  {
   "cell_type": "code",
   "execution_count": 23,
   "id": "ed434a7c",
   "metadata": {},
   "outputs": [
    {
     "data": {
      "text/plain": [
       "<tensorflow.python.checkpoint.checkpoint.CheckpointLoadStatus at 0x7fef69985210>"
      ]
     },
     "execution_count": 23,
     "metadata": {},
     "output_type": "execute_result"
    }
   ],
   "source": [
    "#-- load the agent that had yeilded best rewards during training\n",
    "best_agent = Agent( alpha=lr, n_actions=2,  gamma=gam, fc=fc )\n",
    "best_agent.policy_network.load_weights('saved_agents/weights_'+name)"
   ]
  },
  {
   "cell_type": "code",
   "execution_count": null,
   "id": "bcb836ba",
   "metadata": {},
   "outputs": [],
   "source": [
    "#--  let us now observe the behavior of our best trained agent.\n",
    "filename = 'videos/best_agent_'+name+'.mp4'\n",
    "env = gym.make('CartPole-v1', render_mode=\"rgb_array\")\n",
    "env.reset()\n",
    "video = VideoRecorder(env,filename)\n",
    "rewards = []\n",
    "for i in range(100):\n",
    "    env.render()\n",
    "    video.capture_frame()\n",
    "    action = best_agent.choose_action( env.state )\n",
    "    obs, reward, terminated, truncated, info = env.step( action )\n",
    "    rewards.append(reward)\n",
    "\n",
    "print('-- Total obtained reward =', np.sum(rewards))\n",
    "video.close()\n",
    "env.close()"
   ]
  },
  {
   "cell_type": "code",
   "execution_count": null,
   "id": "3d9a28ff",
   "metadata": {},
   "outputs": [],
   "source": []
  }
 ],
 "metadata": {
  "kernelspec": {
   "display_name": "Python 3 (ipykernel)",
   "language": "python",
   "name": "python3"
  },
  "language_info": {
   "codemirror_mode": {
    "name": "ipython",
    "version": 3
   },
   "file_extension": ".py",
   "mimetype": "text/x-python",
   "name": "python",
   "nbconvert_exporter": "python",
   "pygments_lexer": "ipython3",
   "version": "3.10.10"
  }
 },
 "nbformat": 4,
 "nbformat_minor": 5
}
