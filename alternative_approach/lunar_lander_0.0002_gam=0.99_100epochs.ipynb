{
 "cells": [
  {
   "cell_type": "code",
   "execution_count": 2,
   "id": "6fde9f37",
   "metadata": {},
   "outputs": [],
   "source": [
    "import tensorflow as tf\n",
    "import gymnasium as gym\n",
    "import matplotlib.pyplot as plt\n",
    "from gymnasium.wrappers.monitoring.video_recorder import VideoRecorder\n",
    "import tensorflow_probability as tfp\n",
    "from IPython.display import clear_output\n",
    "import time\n",
    "import numpy as np\n",
    "import sys"
   ]
  },
  {
   "cell_type": "code",
   "execution_count": 3,
   "id": "a74b9034",
   "metadata": {},
   "outputs": [
    {
     "data": {
      "image/png": "[encoded data removed]",
      "text/plain": [
       "<Figure size 640x480 with 1 Axes>"
      ]
     },
     "metadata": {},
     "output_type": "display_data"
    }
   ],
   "source": [
    "env = gym.make('LunarLander-v2', render_mode=\"rgb_array\")\n",
    "env.reset()\n",
    "img = plt.imshow( env.render() )\n",
    "states = env.observation_space.shape[0]"
   ]
  },
  {
   "cell_type": "code",
   "execution_count": 4,
   "id": "5b3979e2",
   "metadata": {},
   "outputs": [
    {
     "name": "stdout",
     "output_type": "stream",
     "text": [
      "Moviepy - Building video videos/lunar_lander_lunar_lander_0.0002_gam=0.99_100epochs.mp4.\n",
      "Moviepy - Writing video videos/lunar_lander_lunar_lander_0.0002_gam=0.99_100epochs.mp4\n",
      "\n"
     ]
    },
    {
     "name": "stderr",
     "output_type": "stream",
     "text": [
      "                                                                                "
     ]
    },
    {
     "name": "stdout",
     "output_type": "stream",
     "text": [
      "Moviepy - Done !\n",
      "Moviepy - video ready videos/lunar_lander_lunar_lander_0.0002_gam=0.99_100epochs.mp4\n"
     ]
    },
    {
     "name": "stderr",
     "output_type": "stream",
     "text": [
      "\r"
     ]
    }
   ],
   "source": [
    "filename = 'videos/lunar_lander_'+name+'.mp4'\n",
    "video = VideoRecorder(env,filename)\n",
    "env.reset()\n",
    "rewards = []\n",
    "terminated=False\n",
    "for _ in range(1000):\n",
    "    env.render()\n",
    "    video.capture_frame()\n",
    "    obs, reward, terminated, truncated, info = env.step( env.action_space.sample() )\n",
    "    rewards.append(reward)\n",
    "    \n",
    "    if terminated or truncated:\n",
    "        observation, info = env.reset()\n",
    "    \n",
    "video.close()\n",
    "env.close()"
   ]
  },
  {
   "cell_type": "code",
   "execution_count": null,
   "id": "3149ab6e",
   "metadata": {},
   "outputs": [],
   "source": []
  },
  {
   "cell_type": "code",
   "execution_count": 5,
   "id": "93ae025f",
   "metadata": {},
   "outputs": [],
   "source": [
    "from tensorflow.keras.models import Sequential\n",
    "from tensorflow.keras.layers import Dense, Flatten\n",
    "from tensorflow.keras.optimizers import Adam\n",
    "\n",
    "def build_model( states, actions ):\n",
    "    model = Sequential()\n",
    "    model.add( Flatten(input_shape=(1,states)) )\n",
    "    model.add( Dense(24, activation='relu') )\n",
    "    model.add( Dense(24, activation='relu') )\n",
    "    model.add( Dense(actions,activation='linear') )\n",
    "    model.compile( Adam(lr=1e-3) )\n",
    "    return model"
   ]
  },
  {
   "cell_type": "code",
   "execution_count": 6,
   "id": "c918fe2c",
   "metadata": {},
   "outputs": [],
   "source": [
    "class Policy_Network(tf.keras.Model):\n",
    "    \n",
    "    def __init__(self, n_actions):\n",
    "        super(Policy_Network, self).__init__()\n",
    "        self.fc1_dims = 300\n",
    "        self.fc2_dims = 300\n",
    "        self.n_actions = n_actions\n",
    "\n",
    "        self.fc1 = Dense(self.fc1_dims, activation='relu')\n",
    "        self.fc2 = Dense(self.fc2_dims, activation='relu')\n",
    "        self.pi = Dense(n_actions, activation='softmax')\n",
    "\n",
    "    def call(self, state):\n",
    "        value = self.fc1(state)\n",
    "        value = self.fc2(value)\n",
    "        pi = self.pi(value)\n",
    "\n",
    "        return pi\n",
    "    \n",
    "class Agent:\n",
    "    \n",
    "    def __init__(self, alpha=1e-3, n_actions=4, gamma=0.95):\n",
    "        self.gamma = gamma\n",
    "        self.n_actions = n_actions\n",
    "        self.state_memory = []\n",
    "        self.action_memory = []\n",
    "        self.reward_memory = []\n",
    "        self.mean_returns = []\n",
    "        self.policy_network = Policy_Network( n_actions )\n",
    "        self.policy_network.compile( optimizer=Adam(learning_rate=alpha))\n",
    "        self.number_of_epochs_trained = 0\n",
    "\n",
    "    def choose_action(self, state):\n",
    "        state_tf = tf.convert_to_tensor([state])\n",
    "        policy = self.policy_network(state_tf)\n",
    "        action_probabilities = tfp.distributions.Categorical(probs=policy)\n",
    "        action = action_probabilities.sample()\n",
    "\n",
    "        return action.numpy()[0]\n",
    "    \n",
    "    def store_transition(self, observation, action, reward):\n",
    "        self.state_memory.append(observation)\n",
    "        self.action_memory.append(action)\n",
    "        self.reward_memory.append(reward)\n",
    "        \n",
    "    def learn(self):\n",
    "\n",
    "        batch_size = len( self.action_memory )\n",
    "\n",
    "        G = [ [] for i in range(batch_size) ]\n",
    "        for i in range( batch_size ):\n",
    "            N_steps = len( self.reward_memory[i] )\n",
    "            for t in range( N_steps ):\n",
    "                G_sum = 0\n",
    "                for k in range( N_steps-t ):\n",
    "                    G_sum += self.reward_memory[i][t+k] * self.gamma**k\n",
    "                G[i].append( tf.convert_to_tensor(G_sum) )\n",
    "        \n",
    "        with tf.GradientTape() as tape:\n",
    "            loss=0.\n",
    "            for i in range(batch_size):\n",
    "                \n",
    "                N_steps = len( self.reward_memory[i] )\n",
    "                states_tf = tf.convert_to_tensor(self.state_memory[i])\n",
    "                actions_tf = tf.convert_to_tensor(self.action_memory[i])\n",
    "                probs = self.policy_network(states_tf)\n",
    "                log_probs = tf.math.log( probs )\n",
    "                          \n",
    "                slice_indices = tf.transpose( tf.stack( (tf.range(0,N_steps), actions_tf) ) )\n",
    "                log_probs_a = tf.gather_nd( log_probs, slice_indices )\n",
    "                \n",
    "                #probs_log_probs = probs * log_probs\n",
    "                #sum_over_s_and_a = tf.reduce_sum( probs_log_probs )\n",
    "                \n",
    "                loss += - tf.reduce_sum( G[i][:] * log_probs_a )                \n",
    "                    \n",
    "            loss /= batch_size\n",
    "                \n",
    "        gradient = tape.gradient( loss, self.policy_network.trainable_variables )\n",
    "        self.policy_network.optimizer.apply_gradients( zip(gradient, self.policy_network.trainable_variables) )\n",
    "\n",
    "        self.state_memory = []\n",
    "        self.action_memory = []\n",
    "        self.reward_memory = []\n",
    "        self.number_of_epochs_trained += 1"
   ]
  },
  {
   "cell_type": "code",
   "execution_count": null,
   "id": "3b588cee",
   "metadata": {},
   "outputs": [
    {
     "name": "stderr",
     "output_type": "stream",
     "text": [
      "WARNING:absl:At this time, the v2.11+ optimizer `tf.keras.optimizers.Adam` runs slowly on M1/M2 Macs, please use the legacy Keras optimizer instead, located at `tf.keras.optimizers.legacy.Adam`.\n",
      "WARNING:absl:There is a known slowdown when using v2.11+ Keras optimizers on M1/M2 Macs. Falling back to the legacy Keras optimizer, i.e., `tf.keras.optimizers.legacy.Adam`.\n"
     ]
    },
    {
     "name": "stdout",
     "output_type": "stream",
     "text": [
      "-- name:  lunar_lander_0.0002_gam=0.99_100epochs\n",
      "-- epoch complete:  1   mean_batch_returns= -181.0342 , time= 8.45\n",
      "-- epoch complete:  11   mean_batch_returns= -169.9916 , time= 7.71\n",
      "-- epoch complete:  22   mean_batch_returns= -142.1023 , time= 8.08\n",
      "-- epoch complete:  32   mean_batch_returns= -106.3184 , time= 15.23\n"
     ]
    }
   ],
   "source": [
    "num_epochs = 100\n",
    "batch_size = 64\n",
    "max_step_number = 150\n",
    "number_of_prints = 10\n",
    "lr=0.0002\n",
    "gam=0.99\n",
    "\n",
    "name='lunar_lander_'+str(lr)+'_gam='+str(gam)+'_'+str(num_epochs)+'epochs'\n",
    "print('-- name: ', name)\n",
    "\n",
    "pointer = 0\n",
    "print_array=np.linspace( 0, 0.95, number_of_prints )\n",
    "\n",
    "env = gym.make('LunarLander-v2')\n",
    "env.reset()\n",
    "\n",
    "agent = Agent( alpha=lr, n_actions=env.action_space.n, gamma=gam )\n",
    "\n",
    "agent.state_memory = []\n",
    "agent.action_memory = []\n",
    "agent.reward_memory = []\n",
    "\n",
    "t2=-1\n",
    "t1=0\n",
    "\n",
    "return_history=[]\n",
    "for jj in range(num_epochs):\n",
    "    \n",
    "    t1 = time.time()\n",
    "    batch_returns = []\n",
    "    for ii in range(batch_size):\n",
    "            \n",
    "        seq_obsvs = []\n",
    "        seq_acts = []\n",
    "        seq_rwds = []\n",
    "    \n",
    "        observation, info = env.reset()\n",
    "        step_number=0\n",
    "        terminated=False\n",
    "        \n",
    "        while not terminated:\n",
    "            step_number += 1\n",
    "            action = agent.choose_action( observation )\n",
    "            observation, reward, terminated, truncated, info = env.step( action )\n",
    "            \n",
    "            seq_obsvs.append( observation )\n",
    "            seq_acts.append( action )\n",
    "            seq_rwds.append( reward )\n",
    "        \n",
    "        agent.store_transition( seq_obsvs, seq_acts, seq_rwds )\n",
    "        batch_returns.append( np.sum( seq_rwds ) )      \n",
    "    \n",
    "    return_history.append( np.mean( batch_returns ) )\n",
    "    \n",
    "    if (pointer < len(print_array))  and (jj > print_array[pointer]*num_epochs) :\n",
    "        pointer+=1\n",
    "        t2 = time.time()\n",
    "        print('-- epoch complete: ',jj, end='   ')\n",
    "        print('mean_batch_returns=',np.round( np.mean( batch_returns ), 4), ', time=', np.round( t2-t1,2) )\n",
    "        t1=t2\n",
    "    \n",
    "    agent.learn()\n",
    "print('--END')\n",
    "np.savetxt( 'data/return_history_'+name+'.txt', return_history)"
   ]
  },
  {
   "cell_type": "code",
   "execution_count": null,
   "id": "12efb12f",
   "metadata": {},
   "outputs": [],
   "source": [
    "plt.plot(return_history)"
   ]
  },
  {
   "cell_type": "code",
   "execution_count": 29,
   "id": "bcb836ba",
   "metadata": {},
   "outputs": [
    {
     "name": "stdout",
     "output_type": "stream",
     "text": [
      "Moviepy - Building video videos/lr=0.01_gam=0.995_10epochs.mp4.\n",
      "Moviepy - Writing video videos/lr=0.01_gam=0.995_10epochs.mp4\n",
      "\n"
     ]
    },
    {
     "name": "stderr",
     "output_type": "stream",
     "text": [
      "                                                                                "
     ]
    },
    {
     "name": "stdout",
     "output_type": "stream",
     "text": [
      "Moviepy - Done !\n",
      "Moviepy - video ready videos/lr=0.01_gam=0.995_10epochs.mp4\n"
     ]
    },
    {
     "name": "stderr",
     "output_type": "stream",
     "text": [
      "\r"
     ]
    }
   ],
   "source": [
    "before_training = 'videos/'+name+'.mp4'\n",
    "video = VideoRecorder(env,before_training)\n",
    "env.reset()\n",
    "rewards = []\n",
    "angles=[]\n",
    "terminated=False\n",
    "while not terminated:\n",
    "#for i in range(100):\n",
    "    env.render()\n",
    "    video.capture_frame()\n",
    "    obs, reward, terminated, truncated, info = env.step( agent.choose_action( env.state ) )\n",
    "    rewards.append(reward)\n",
    "    angles.append(obs[2])\n",
    "    \n",
    "video.close()\n",
    "env.close()"
   ]
  },
  {
   "cell_type": "code",
   "execution_count": 48,
   "id": "f902f7b4",
   "metadata": {},
   "outputs": [
    {
     "data": {
      "text/plain": [
       "<matplotlib.lines.Line2D at 0x7feaf9368fd0>"
      ]
     },
     "execution_count": 48,
     "metadata": {},
     "output_type": "execute_result"
    },
    {
     "data": {
      "image/png": "[encoded data removed]",
      "text/plain": [
       "<Figure size 640x480 with 1 Axes>"
      ]
     },
     "metadata": {},
     "output_type": "display_data"
    }
   ],
   "source": [
    "plt.plot( (np.array(rewards)-0.5)*5 )\n",
    "plt.plot( angles )\n",
    "plt.ylim(-0.5,0.5)\n",
    "plt.axhline(y=0.24, color='gray')\n",
    "plt.axhline(y=-0.24, color='gray')"
   ]
  },
  {
   "cell_type": "code",
   "execution_count": null,
   "id": "3bff71fb",
   "metadata": {},
   "outputs": [],
   "source": []
  },
  {
   "cell_type": "code",
   "execution_count": 7,
   "id": "6d622b1b",
   "metadata": {},
   "outputs": [],
   "source": [
    "G = [ [] for i in range(batch_size) ]"
   ]
  },
  {
   "cell_type": "code",
   "execution_count": 8,
   "id": "549c5b5c",
   "metadata": {},
   "outputs": [
    {
     "data": {
      "text/plain": [
       "[[],\n",
       " [],\n",
       " [],\n",
       " [],\n",
       " [],\n",
       " [],\n",
       " [],\n",
       " [],\n",
       " [],\n",
       " [],\n",
       " [],\n",
       " [],\n",
       " [],\n",
       " [],\n",
       " [],\n",
       " [],\n",
       " [],\n",
       " [],\n",
       " [],\n",
       " [],\n",
       " [],\n",
       " [],\n",
       " [],\n",
       " [],\n",
       " [],\n",
       " [],\n",
       " [],\n",
       " [],\n",
       " [],\n",
       " [],\n",
       " [],\n",
       " [],\n",
       " [],\n",
       " [],\n",
       " [],\n",
       " [],\n",
       " [],\n",
       " [],\n",
       " [],\n",
       " [],\n",
       " [],\n",
       " [],\n",
       " [],\n",
       " [],\n",
       " [],\n",
       " [],\n",
       " [],\n",
       " [],\n",
       " [],\n",
       " [],\n",
       " [],\n",
       " [],\n",
       " [],\n",
       " [],\n",
       " [],\n",
       " [],\n",
       " [],\n",
       " [],\n",
       " [],\n",
       " [],\n",
       " [],\n",
       " [],\n",
       " [],\n",
       " []]"
      ]
     },
     "execution_count": 8,
     "metadata": {},
     "output_type": "execute_result"
    }
   ],
   "source": [
    "G"
   ]
  },
  {
   "cell_type": "code",
   "execution_count": 30,
   "id": "ac082446",
   "metadata": {},
   "outputs": [
    {
     "ename": "AttributeError",
     "evalue": "'LunarLander' object has no attribute 'obs'",
     "output_type": "error",
     "traceback": [
      "\u001b[0;31m---------------------------------------------------------------------------\u001b[0m",
      "\u001b[0;31mAttributeError\u001b[0m                            Traceback (most recent call last)",
      "Cell \u001b[0;32mIn[30], line 1\u001b[0m\n\u001b[0;32m----> 1\u001b[0m \u001b[43menv\u001b[49m\u001b[38;5;241;43m.\u001b[39;49m\u001b[43mobs\u001b[49m\n",
      "File \u001b[0;32m~/miniconda3/lib/python3.8/site-packages/gymnasium/core.py:282\u001b[0m, in \u001b[0;36mWrapper.__getattr__\u001b[0;34m(self, name)\u001b[0m\n\u001b[1;32m    280\u001b[0m \u001b[38;5;28;01melif\u001b[39;00m name\u001b[38;5;241m.\u001b[39mstartswith(\u001b[38;5;124m\"\u001b[39m\u001b[38;5;124m_\u001b[39m\u001b[38;5;124m\"\u001b[39m):\n\u001b[1;32m    281\u001b[0m     \u001b[38;5;28;01mraise\u001b[39;00m \u001b[38;5;167;01mAttributeError\u001b[39;00m(\u001b[38;5;124mf\u001b[39m\u001b[38;5;124m\"\u001b[39m\u001b[38;5;124maccessing private attribute \u001b[39m\u001b[38;5;124m'\u001b[39m\u001b[38;5;132;01m{\u001b[39;00mname\u001b[38;5;132;01m}\u001b[39;00m\u001b[38;5;124m'\u001b[39m\u001b[38;5;124m is prohibited\u001b[39m\u001b[38;5;124m\"\u001b[39m)\n\u001b[0;32m--> 282\u001b[0m \u001b[38;5;28;01mreturn\u001b[39;00m \u001b[38;5;28;43mgetattr\u001b[39;49m\u001b[43m(\u001b[49m\u001b[38;5;28;43mself\u001b[39;49m\u001b[38;5;241;43m.\u001b[39;49m\u001b[43menv\u001b[49m\u001b[43m,\u001b[49m\u001b[43m \u001b[49m\u001b[43mname\u001b[49m\u001b[43m)\u001b[49m\n",
      "File \u001b[0;32m~/miniconda3/lib/python3.8/site-packages/gymnasium/core.py:282\u001b[0m, in \u001b[0;36mWrapper.__getattr__\u001b[0;34m(self, name)\u001b[0m\n\u001b[1;32m    280\u001b[0m \u001b[38;5;28;01melif\u001b[39;00m name\u001b[38;5;241m.\u001b[39mstartswith(\u001b[38;5;124m\"\u001b[39m\u001b[38;5;124m_\u001b[39m\u001b[38;5;124m\"\u001b[39m):\n\u001b[1;32m    281\u001b[0m     \u001b[38;5;28;01mraise\u001b[39;00m \u001b[38;5;167;01mAttributeError\u001b[39;00m(\u001b[38;5;124mf\u001b[39m\u001b[38;5;124m\"\u001b[39m\u001b[38;5;124maccessing private attribute \u001b[39m\u001b[38;5;124m'\u001b[39m\u001b[38;5;132;01m{\u001b[39;00mname\u001b[38;5;132;01m}\u001b[39;00m\u001b[38;5;124m'\u001b[39m\u001b[38;5;124m is prohibited\u001b[39m\u001b[38;5;124m\"\u001b[39m)\n\u001b[0;32m--> 282\u001b[0m \u001b[38;5;28;01mreturn\u001b[39;00m \u001b[38;5;28;43mgetattr\u001b[39;49m\u001b[43m(\u001b[49m\u001b[38;5;28;43mself\u001b[39;49m\u001b[38;5;241;43m.\u001b[39;49m\u001b[43menv\u001b[49m\u001b[43m,\u001b[49m\u001b[43m \u001b[49m\u001b[43mname\u001b[49m\u001b[43m)\u001b[49m\n",
      "File \u001b[0;32m~/miniconda3/lib/python3.8/site-packages/gymnasium/core.py:282\u001b[0m, in \u001b[0;36mWrapper.__getattr__\u001b[0;34m(self, name)\u001b[0m\n\u001b[1;32m    280\u001b[0m \u001b[38;5;28;01melif\u001b[39;00m name\u001b[38;5;241m.\u001b[39mstartswith(\u001b[38;5;124m\"\u001b[39m\u001b[38;5;124m_\u001b[39m\u001b[38;5;124m\"\u001b[39m):\n\u001b[1;32m    281\u001b[0m     \u001b[38;5;28;01mraise\u001b[39;00m \u001b[38;5;167;01mAttributeError\u001b[39;00m(\u001b[38;5;124mf\u001b[39m\u001b[38;5;124m\"\u001b[39m\u001b[38;5;124maccessing private attribute \u001b[39m\u001b[38;5;124m'\u001b[39m\u001b[38;5;132;01m{\u001b[39;00mname\u001b[38;5;132;01m}\u001b[39;00m\u001b[38;5;124m'\u001b[39m\u001b[38;5;124m is prohibited\u001b[39m\u001b[38;5;124m\"\u001b[39m)\n\u001b[0;32m--> 282\u001b[0m \u001b[38;5;28;01mreturn\u001b[39;00m \u001b[38;5;28;43mgetattr\u001b[39;49m\u001b[43m(\u001b[49m\u001b[38;5;28;43mself\u001b[39;49m\u001b[38;5;241;43m.\u001b[39;49m\u001b[43menv\u001b[49m\u001b[43m,\u001b[49m\u001b[43m \u001b[49m\u001b[43mname\u001b[49m\u001b[43m)\u001b[49m\n",
      "\u001b[0;31mAttributeError\u001b[0m: 'LunarLander' object has no attribute 'obs'"
     ]
    }
   ],
   "source": [
    "env.obs"
   ]
  },
  {
   "cell_type": "code",
   "execution_count": null,
   "id": "9f139c22",
   "metadata": {},
   "outputs": [],
   "source": []
  }
 ],
 "metadata": {
  "kernelspec": {
   "display_name": "Python 3 (ipykernel)",
   "language": "python",
   "name": "python3"
  },
  "language_info": {
   "codemirror_mode": {
    "name": "ipython",
    "version": 3
   },
   "file_extension": ".py",
   "mimetype": "text/x-python",
   "name": "python",
   "nbconvert_exporter": "python",
   "pygments_lexer": "ipython3",
   "version": "3.8.16"
  }
 },
 "nbformat": 4,
 "nbformat_minor": 5
}
